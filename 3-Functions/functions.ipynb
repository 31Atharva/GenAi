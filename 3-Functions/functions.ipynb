{
 "cells": [
  {
   "cell_type": "markdown",
   "metadata": {},
   "source": [
    "- Functions In Python\n",
    "    1. Introduction to Functions\n",
    "    2. Defining Functions\n",
    "    3. Calling Functions\n",
    "    4. Function Parameters\n",
    "    5. Default Parameters\n",
    "    6. Variable-Length Arguments\n",
    "    7. Return Statement\n"
   ]
  },
  {
   "cell_type": "markdown",
   "metadata": {},
   "source": [
    "- Function ->\n",
    "    - A function is a block of code that performs a specific task.\n",
    "    - Functions help in organizing code, reusing it and improving readability."
   ]
  },
  {
   "cell_type": "code",
   "execution_count": 1,
   "metadata": {},
   "outputs": [],
   "source": [
    "def function_name(parameter):\n",
    "    \"\"\"Docstring\"\"\"\n",
    "    #Function body\n",
    "    pass\n",
    "    return expression"
   ]
  },
  {
   "cell_type": "code",
   "execution_count": 2,
   "metadata": {},
   "outputs": [
    {
     "name": "stdout",
     "output_type": "stream",
     "text": [
      "even\n"
     ]
    }
   ],
   "source": [
    "#even odd code\n",
    "\n",
    "num = 212\n",
    "if num % 2 == 0:\n",
    "    print(\"even\")\n",
    "else:\n",
    "    print(\"odd\")\n"
   ]
  },
  {
   "cell_type": "code",
   "execution_count": 3,
   "metadata": {},
   "outputs": [],
   "source": [
    "def even_odd(num):\n",
    "    if num %2 == 0:\n",
    "        print(\"even\")\n",
    "    else:\n",
    "        print(\"odd\")"
   ]
  },
  {
   "cell_type": "code",
   "execution_count": 4,
   "metadata": {},
   "outputs": [
    {
     "name": "stdout",
     "output_type": "stream",
     "text": [
      "odd\n"
     ]
    }
   ],
   "source": [
    "even_odd(67)"
   ]
  },
  {
   "cell_type": "code",
   "execution_count": 5,
   "metadata": {},
   "outputs": [
    {
     "name": "stdout",
     "output_type": "stream",
     "text": [
      "19\n"
     ]
    }
   ],
   "source": [
    "#functions with multiple parameters\n",
    "\n",
    "def add(a,b):\n",
    "    return a+b\n",
    "\n",
    "result = add(9,10)\n",
    "print(result)"
   ]
  },
  {
   "cell_type": "code",
   "execution_count": 7,
   "metadata": {},
   "outputs": [
    {
     "name": "stdout",
     "output_type": "stream",
     "text": [
      "greet Atharva Welcome to my world\n"
     ]
    }
   ],
   "source": [
    "#Default Parameter\n",
    "\n",
    "def greet(name):\n",
    "    print(f\"greet {name} Welcome to my world\")\n",
    "\n",
    "greet(\"Atharva\")\n"
   ]
  },
  {
   "cell_type": "code",
   "execution_count": 9,
   "metadata": {},
   "outputs": [
    {
     "name": "stdout",
     "output_type": "stream",
     "text": [
      "greet Guest wolcome to my world\n"
     ]
    }
   ],
   "source": [
    "def greet(name=\"Guest\"):\n",
    "    print(f\"greet {name} wolcome to my world\")\n",
    "\n",
    "greet()"
   ]
  },
  {
   "cell_type": "code",
   "execution_count": 11,
   "metadata": {},
   "outputs": [],
   "source": [
    "#variable length arguments\n",
    "# Positional and keyword arguments\n",
    "\n",
    "def print_numbers(*args):\n",
    "    for numbers in args:\n",
    "        print(numbers)"
   ]
  },
  {
   "cell_type": "code",
   "execution_count": 12,
   "metadata": {},
   "outputs": [
    {
     "name": "stdout",
     "output_type": "stream",
     "text": [
      "1\n",
      "2\n",
      "3\n",
      "4\n",
      "5\n",
      "6\n",
      "Atharva\n"
     ]
    }
   ],
   "source": [
    "print_numbers(1,2,3,4,5,6,\"Atharva\")"
   ]
  },
  {
   "cell_type": "markdown",
   "metadata": {},
   "source": [
    "- Keyword Arguments\n",
    "    - in keyword arguments, we can pass the arguments with the key and value pair\n",
    "    - The order of the arguments does not matter in keyword arguments\n",
    "    - The keyword arguments are passed as a dictionary\n",
    "\n"
   ]
  },
  {
   "cell_type": "code",
   "execution_count": 13,
   "metadata": {},
   "outputs": [],
   "source": [
    "#Keyword arguments\n",
    "\n",
    "def print_details(**kwargs):\n",
    "    for key,value in kwargs.items():\n",
    "        print(f\"{key}:{value}\")"
   ]
  },
  {
   "cell_type": "code",
   "execution_count": 15,
   "metadata": {},
   "outputs": [
    {
     "name": "stdout",
     "output_type": "stream",
     "text": [
      "name:Atharva\n",
      "Age:23\n",
      "City:Pune\n"
     ]
    }
   ],
   "source": [
    "print_details(name=\"Atharva\",Age=23,City=\"Pune\")"
   ]
  },
  {
   "cell_type": "code",
   "execution_count": 21,
   "metadata": {},
   "outputs": [],
   "source": [
    "def print_details(*args,**kwargs):\n",
    "    for values in args:\n",
    "        print(f\"positional arguments -> {values}\")\n",
    "\n",
    "    for key,value in kwargs.items():\n",
    "        print(f\"{key}:{value}\")\n",
    "   "
   ]
  },
  {
   "cell_type": "code",
   "execution_count": 23,
   "metadata": {},
   "outputs": [
    {
     "name": "stdout",
     "output_type": "stream",
     "text": [
      "positional arguments -> 1\n",
      "positional arguments -> 2\n",
      "positional arguments -> 3\n",
      "positional arguments -> 4\n",
      "positional arguments -> 5\n",
      "positional arguments -> 6\n",
      "positional arguments -> Atharva\n",
      "name:Atharva\n",
      "Age:23\n",
      "City:Pune\n"
     ]
    }
   ],
   "source": [
    "print_details(1,2,3,4,5,6,\"Atharva\", name=\"Atharva\",Age=23,City=\"Pune\")"
   ]
  },
  {
   "cell_type": "code",
   "execution_count": 29,
   "metadata": {},
   "outputs": [],
   "source": [
    "#return Statement\n",
    "\n",
    "def multiply(a,b):\n",
    "    return a*b"
   ]
  },
  {
   "cell_type": "code",
   "execution_count": 30,
   "metadata": {},
   "outputs": [
    {
     "data": {
      "text/plain": [
       "0"
      ]
     },
     "execution_count": 30,
     "metadata": {},
     "output_type": "execute_result"
    }
   ],
   "source": [
    "multiply(900,0)"
   ]
  },
  {
   "cell_type": "code",
   "execution_count": 31,
   "metadata": {},
   "outputs": [],
   "source": [
    "#return Multiple paramenters\n",
    "\n",
    "def multiply(a,b):\n",
    "    return a*b,a"
   ]
  },
  {
   "cell_type": "code",
   "execution_count": 32,
   "metadata": {},
   "outputs": [
    {
     "data": {
      "text/plain": [
       "(6984, 9)"
      ]
     },
     "execution_count": 32,
     "metadata": {},
     "output_type": "execute_result"
    }
   ],
   "source": [
    "multiply(9,776)"
   ]
  },
  {
   "cell_type": "code",
   "execution_count": null,
   "metadata": {},
   "outputs": [],
   "source": []
  }
 ],
 "metadata": {
  "kernelspec": {
   "display_name": "Python 3",
   "language": "python",
   "name": "python3"
  },
  "language_info": {
   "codemirror_mode": {
    "name": "ipython",
    "version": 3
   },
   "file_extension": ".py",
   "mimetype": "text/x-python",
   "name": "python",
   "nbconvert_exporter": "python",
   "pygments_lexer": "ipython3",
   "version": "3.12.0"
  }
 },
 "nbformat": 4,
 "nbformat_minor": 2
}
